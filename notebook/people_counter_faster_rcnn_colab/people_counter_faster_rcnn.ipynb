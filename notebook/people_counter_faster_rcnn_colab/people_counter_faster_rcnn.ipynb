{
  "nbformat": 4,
  "nbformat_minor": 0,
  "metadata": {
    "colab": {
      "name": "people_counter_faster_rcnn.ipynb",
      "provenance": [],
      "collapsed_sections": []
    },
    "kernelspec": {
      "name": "python3",
      "display_name": "Python 3"
    }
  },
  "cells": [
    {
      "cell_type": "code",
      "metadata": {
        "id": "SMXzvpZPJXn4",
        "colab_type": "code",
        "outputId": "893e2b7f-45ae-4e85-d3cf-cd61f3ad2bee",
        "colab": {
          "base_uri": "https://localhost:8080/",
          "height": 34
        }
      },
      "source": [
        "import tensorflow as tf\n",
        "tf.__version__"
      ],
      "execution_count": 10,
      "outputs": [
        {
          "output_type": "execute_result",
          "data": {
            "text/plain": [
              "'2.2.0'"
            ]
          },
          "metadata": {
            "tags": []
          },
          "execution_count": 10
        }
      ]
    },
    {
      "cell_type": "code",
      "metadata": {
        "id": "a3HzdHlVJrmf",
        "colab_type": "code",
        "outputId": "11880af7-9808-4a52-af3b-89aea37c0a79",
        "colab": {
          "base_uri": "https://localhost:8080/",
          "height": 119
        }
      },
      "source": [
        "!pip install pycocotools\n",
        "!git clone --depth 1 https://github.com/tensorflow/models\n",
        "!curl -L \"https://drive.google.com/u/0/uc?id=1OU10tV9iZg_Rw7RCDtC_tzloxtCxoYZN&export=download\" --output input_video.mp4"
      ],
      "execution_count": 11,
      "outputs": [
        {
          "output_type": "stream",
          "text": [
            "Requirement already satisfied: pycocotools in /usr/local/lib/python3.6/dist-packages (2.0.0)\n",
            "fatal: destination path 'models' already exists and is not an empty directory.\n",
            "  % Total    % Received % Xferd  Average Speed   Time    Time     Time  Current\n",
            "                                 Dload  Upload   Total   Spent    Left  Speed\n",
            "100   388    0   388    0     0    463      0 --:--:-- --:--:-- --:--:--   462\n",
            "100 3214k    0 3214k    0     0  3109k      0 --:--:--  0:00:01 --:--:-- 3109k\n"
          ],
          "name": "stdout"
        }
      ]
    },
    {
      "cell_type": "code",
      "metadata": {
        "id": "gL2rx1t-J3Wv",
        "colab_type": "code",
        "outputId": "728c7475-35e4-428c-c7b5-bd70023ef787",
        "colab": {
          "base_uri": "https://localhost:8080/",
          "height": 666
        }
      },
      "source": [
        "%%bash\n",
        "cd models/research/\n",
        "protoc object_detection/protos/*.proto --python_out=.\n",
        "pip install .\n",
        "cd slim\n",
        "pip install ."
      ],
      "execution_count": 12,
      "outputs": [
        {
          "output_type": "stream",
          "text": [
            "Processing /content/models/research\n",
            "Requirement already satisfied: Pillow>=1.0 in /usr/local/lib/python3.6/dist-packages (from object-detection==0.1) (7.0.0)\n",
            "Requirement already satisfied: Matplotlib>=2.1 in /usr/local/lib/python3.6/dist-packages (from object-detection==0.1) (3.2.1)\n",
            "Requirement already satisfied: Cython>=0.28.1 in /usr/local/lib/python3.6/dist-packages (from object-detection==0.1) (0.29.19)\n",
            "Requirement already satisfied: cycler>=0.10 in /usr/local/lib/python3.6/dist-packages (from Matplotlib>=2.1->object-detection==0.1) (0.10.0)\n",
            "Requirement already satisfied: kiwisolver>=1.0.1 in /usr/local/lib/python3.6/dist-packages (from Matplotlib>=2.1->object-detection==0.1) (1.2.0)\n",
            "Requirement already satisfied: python-dateutil>=2.1 in /usr/local/lib/python3.6/dist-packages (from Matplotlib>=2.1->object-detection==0.1) (2.8.1)\n",
            "Requirement already satisfied: pyparsing!=2.0.4,!=2.1.2,!=2.1.6,>=2.0.1 in /usr/local/lib/python3.6/dist-packages (from Matplotlib>=2.1->object-detection==0.1) (2.4.7)\n",
            "Requirement already satisfied: numpy>=1.11 in /usr/local/lib/python3.6/dist-packages (from Matplotlib>=2.1->object-detection==0.1) (1.18.4)\n",
            "Requirement already satisfied: six in /usr/local/lib/python3.6/dist-packages (from cycler>=0.10->Matplotlib>=2.1->object-detection==0.1) (1.12.0)\n",
            "Building wheels for collected packages: object-detection\n",
            "  Building wheel for object-detection (setup.py): started\n",
            "  Building wheel for object-detection (setup.py): finished with status 'done'\n",
            "  Created wheel for object-detection: filename=object_detection-0.1-cp36-none-any.whl size=1113489 sha256=d0071158086ad4aeb975c4616421a3d544ecd695e0b8282af638d53d420bea15\n",
            "  Stored in directory: /tmp/pip-ephem-wheel-cache-kkyyewka/wheels/94/49/4b/39b051683087a22ef7e80ec52152a27249d1a644ccf4e442ea\n",
            "Successfully built object-detection\n",
            "Installing collected packages: object-detection\n",
            "  Found existing installation: object-detection 0.1\n",
            "    Uninstalling object-detection-0.1:\n",
            "      Successfully uninstalled object-detection-0.1\n",
            "Successfully installed object-detection-0.1\n",
            "Processing /content/models/research/slim\n",
            "Requirement already satisfied: six in /usr/local/lib/python3.6/dist-packages (from slim==0.1) (1.12.0)\n",
            "Requirement already satisfied: tf-slim>=1.1 in /usr/local/lib/python3.6/dist-packages (from slim==0.1) (1.1.0)\n",
            "Requirement already satisfied: absl-py>=0.2.2 in /usr/local/lib/python3.6/dist-packages (from tf-slim>=1.1->slim==0.1) (0.9.0)\n",
            "Building wheels for collected packages: slim\n",
            "  Building wheel for slim (setup.py): started\n",
            "  Building wheel for slim (setup.py): finished with status 'done'\n",
            "  Created wheel for slim: filename=slim-0.1-cp36-none-any.whl size=231256 sha256=816a5e0e92fc09e506a152f535cab4783930c8f7459d9f29ee393999d5dcbef9\n",
            "  Stored in directory: /tmp/pip-ephem-wheel-cache-v17m11h5/wheels/c0/cb/18/e76d02033e40846187fac06f0f855c6434d52aadf580451f20\n",
            "Successfully built slim\n",
            "Installing collected packages: slim\n",
            "  Found existing installation: slim 0.1\n",
            "    Uninstalling slim-0.1:\n",
            "      Successfully uninstalled slim-0.1\n",
            "Successfully installed slim-0.1\n"
          ],
          "name": "stdout"
        },
        {
          "output_type": "stream",
          "text": [
            "object_detection/protos/input_reader.proto: warning: Import object_detection/protos/image_resizer.proto but not used.\n"
          ],
          "name": "stderr"
        }
      ]
    },
    {
      "cell_type": "code",
      "metadata": {
        "id": "napO4R5ocKJu",
        "colab_type": "code",
        "colab": {}
      },
      "source": [
        "import numpy as np\n",
        "import os\n",
        "import pathlib\n",
        "import cv2\n",
        "from matplotlib import pyplot as plt\n",
        "from PIL import Image\n",
        "from IPython.display import display\n",
        "import time\n",
        "%matplotlib inline\n",
        "\n",
        "from object_detection.utils import ops as utils_ops\n",
        "from object_detection.utils import label_map_util\n",
        "from object_detection.utils import visualization_utils as vis_util\n",
        "\n",
        "utils_ops.tf = tf.compat.v1\n",
        "tf.gfile = tf.io.gfile"
      ],
      "execution_count": 0,
      "outputs": []
    },
    {
      "cell_type": "code",
      "metadata": {
        "id": "M21UaL1bco4b",
        "colab_type": "code",
        "colab": {}
      },
      "source": [
        "def load_model(model_name):\n",
        "  base_url = 'http://download.tensorflow.org/models/object_detection/'\n",
        "  model_file = model_name + '.tar.gz'\n",
        "  model_dir = tf.keras.utils.get_file(\n",
        "    fname=model_name, \n",
        "    origin=base_url + model_file,\n",
        "    untar=True)\n",
        "\n",
        "  model_dir = pathlib.Path(model_dir)/\"saved_model\"\n",
        "  model = tf.saved_model.load(str(model_dir))\n",
        "  model = model.signatures['serving_default']\n",
        "\n",
        "  return model"
      ],
      "execution_count": 0,
      "outputs": []
    },
    {
      "cell_type": "code",
      "metadata": {
        "id": "BgwjNMrOc3MN",
        "colab_type": "code",
        "outputId": "ee133968-701c-4686-e256-2bcef991e64d",
        "colab": {
          "base_uri": "https://localhost:8080/",
          "height": 34
        }
      },
      "source": [
        "model_name = 'faster_rcnn_inception_v2_coco_2018_01_28'\n",
        "detection_model = load_model(model_name)"
      ],
      "execution_count": 15,
      "outputs": [
        {
          "output_type": "stream",
          "text": [
            "INFO:tensorflow:Saver not created because there are no variables in the graph to restore\n"
          ],
          "name": "stdout"
        }
      ]
    },
    {
      "cell_type": "code",
      "metadata": {
        "id": "GxV8Gupp0NwU",
        "colab_type": "code",
        "outputId": "afa237a9-24b4-4e73-8c85-8219f58e25b5",
        "colab": {
          "base_uri": "https://localhost:8080/",
          "height": 34
        }
      },
      "source": [
        "detection_model.inputs"
      ],
      "execution_count": 16,
      "outputs": [
        {
          "output_type": "execute_result",
          "data": {
            "text/plain": [
              "[<tf.Tensor 'image_tensor:0' shape=(None, None, None, 3) dtype=uint8>]"
            ]
          },
          "metadata": {
            "tags": []
          },
          "execution_count": 16
        }
      ]
    },
    {
      "cell_type": "code",
      "metadata": {
        "id": "n1hLBMuTKizd",
        "colab_type": "code",
        "outputId": "166f8d80-df25-4042-e6f1-e90d3b6c2792",
        "colab": {
          "base_uri": "https://localhost:8080/",
          "height": 85
        }
      },
      "source": [
        "detection_model.outputs"
      ],
      "execution_count": 17,
      "outputs": [
        {
          "output_type": "execute_result",
          "data": {
            "text/plain": [
              "[<tf.Tensor 'detection_boxes:0' shape=(None, 100, 4) dtype=float32>,\n",
              " <tf.Tensor 'detection_classes:0' shape=(None, 100) dtype=float32>,\n",
              " <tf.Tensor 'detection_scores:0' shape=(None, 100) dtype=float32>,\n",
              " <tf.Tensor 'num_detections:0' shape=(None,) dtype=float32>]"
            ]
          },
          "metadata": {
            "tags": []
          },
          "execution_count": 17
        }
      ]
    },
    {
      "cell_type": "code",
      "metadata": {
        "id": "Ji9RNR5pKp2e",
        "colab_type": "code",
        "colab": {}
      },
      "source": [
        "def run_inference_for_single_image(model, image):\n",
        "  image = np.asarray(image)\n",
        "  # The input needs to be a tensor, convert it using `tf.convert_to_tensor`.\n",
        "  input_tensor = tf.convert_to_tensor(image)\n",
        "  # The model expects a batch of images, so add an axis with `tf.newaxis`.\n",
        "  input_tensor = input_tensor[tf.newaxis,...]\n",
        "\n",
        "  # Run inference\n",
        "  output_dict = model(input_tensor)\n",
        "\n",
        "  # All outputs are batches tensors.\n",
        "  # Convert to numpy arrays, and take index [0] to remove the batch dimension.\n",
        "  # We're only interested in the first num_detections.\n",
        "  num_detections = int(output_dict.pop('num_detections'))\n",
        "  output_dict = {key:value[0, :num_detections].numpy() \n",
        "                 for key,value in output_dict.items()}\n",
        "  output_dict['num_detections'] = num_detections\n",
        "\n",
        "  # detection_classes should be ints.\n",
        "  output_dict['detection_classes'] = output_dict['detection_classes'].astype(np.int64)\n",
        "\n",
        "\n",
        "  return output_dict"
      ],
      "execution_count": 0,
      "outputs": []
    },
    {
      "cell_type": "code",
      "metadata": {
        "id": "CHikJsXASLsE",
        "colab_type": "code",
        "colab": {}
      },
      "source": [
        "def draw_boxes(frame, result,prob_threshold, width, height):\n",
        "    new_conf = 0\n",
        "    for i,conf in enumerate(result['detection_scores']):\n",
        "        if conf >= prob_threshold:\n",
        "            new_conf = conf\n",
        "            box = result['detection_boxes'][i]\n",
        "            xmin = int(box[1] * width)\n",
        "            ymin = int(box[0] * height)\n",
        "            xmax = int(box[3] * width)\n",
        "            ymax = int(box[2] * height)\n",
        "            cv2.rectangle(frame, (xmin, ymin), (xmax, ymax), (255,0,0), 2)\n",
        "    return frame,new_conf\n",
        "\n",
        "start_time = 0\n",
        "temp_flag = 0\n",
        "count = 0\n",
        "total = 0\n",
        "duration = 0.0\n",
        "duration_arr = []\n",
        "count_arr = []\n",
        "\n",
        "def postprocess(conf,frame_no,conf_arr,fps):\n",
        "    global start_time,temp_flag,count,total,duration,duration_arr,count_arr\n",
        "    if temp_flag == 0:\n",
        "        if conf > 0:\n",
        "            temp_flag = 1\n",
        "            count = 1\n",
        "            total = total + 1\n",
        "            start_time = frame_no\n",
        "    if temp_flag == 1:\n",
        "        post_frames = conf_arr[-3:]\n",
        "        if np.mean(post_frames) == 0:\n",
        "            temp_flag = 0\n",
        "            count = 0\n",
        "            duration = ((frame_no)-start_time)/fps\n",
        "            duration_arr.append(duration)\n",
        "    count_arr.append(count)\n",
        "    return"
      ],
      "execution_count": 0,
      "outputs": []
    },
    {
      "cell_type": "code",
      "metadata": {
        "id": "uMIqmOeGglwd",
        "colab_type": "code",
        "colab": {}
      },
      "source": [
        "cap = cv2.VideoCapture('input_video.mp4')\n",
        "cap.open('input_video.mp4') \n",
        "width = int(cap.get(3))\n",
        "height = int(cap.get(4))\n",
        "fps = cap.get(cv2.CAP_PROP_FPS)\n",
        "conf_arr = []\n",
        "infr_arr = []\n",
        "frame_no = 0\n",
        "fourcc = cv2.VideoWriter_fourcc(*'XVID')\n",
        "out = cv2.VideoWriter(\"out.mp4\", fourcc, 6, (width,height))\n",
        "\n",
        "while cap.isOpened():\n",
        "    ### TODO: Read from the video capture ###\n",
        "    flag, frame = cap.read()\n",
        "    frame_no = frame_no+1\n",
        "    start_infr = time.time()\n",
        "    if frame_no%5 == 0:\n",
        "      if not flag:\n",
        "          break\n",
        "      ### TODO: Pre-process the image as needed ###\n",
        "      key_pressed = cv2.waitKey(60)\n",
        "      new_frame= np.copy(frame)\n",
        "      output_dict = run_inference_for_single_image(detection_model, frame)\n",
        "      out_frame,conf = draw_boxes(new_frame, output_dict,0.8, width, height)\n",
        "      conf_arr.append(conf)\n",
        "      postprocess(conf,frame_no,conf_arr,fps)\n",
        "      infr_arr.append((time.time()-start_infr))\n",
        "      out.write(out_frame)\n",
        "\n",
        "out.release()\n",
        "cap.release()\n",
        "cv2.destroyAllWindows()"
      ],
      "execution_count": 0,
      "outputs": []
    },
    {
      "cell_type": "code",
      "metadata": {
        "id": "1wWZOlAHluqr",
        "colab_type": "code",
        "outputId": "2e76ce99-222b-4fba-b454-dd7add1d7aaa",
        "colab": {
          "base_uri": "https://localhost:8080/",
          "height": 85
        }
      },
      "source": [
        "print(f'Total number of people counted: {total}')\n",
        "print(f'Average duration: {np.mean(duration_arr):.2f} sec')\n",
        "print(f'Average inferance time per frame: {np.mean(infr_arr):.2f} sec')\n",
        "print(f'Total inferance time: {np.sum(infr_arr)/60:.2f} min for {len(infr_arr)} frames' )"
      ],
      "execution_count": 40,
      "outputs": [
        {
          "output_type": "stream",
          "text": [
            "Total number of people counted: 6\n",
            "Average duration: 18.67 sec\n",
            "Average inferance time per frame: 1.39 sec\n",
            "Total inferance time: 6.44 min for 278 frames\n"
          ],
          "name": "stdout"
        }
      ]
    },
    {
      "cell_type": "code",
      "metadata": {
        "id": "oQXZqmA3l5JN",
        "colab_type": "code",
        "outputId": "47afd5b9-a550-4b1b-9b85-e782cff63495",
        "colab": {
          "base_uri": "https://localhost:8080/",
          "height": 279
        }
      },
      "source": [
        "plt.plot(count_arr)\n",
        "plt.ylabel('count')\n",
        "plt.xlabel('frames')\n",
        "plt.show()"
      ],
      "execution_count": 50,
      "outputs": [
        {
          "output_type": "display_data",
          "data": {
            "image/png": "[encoded data removed]",
            "text/plain": [
              "<Figure size 432x288 with 1 Axes>"
            ]
          },
          "metadata": {
            "tags": [],
            "needs_background": "light"
          }
        }
      ]
    },
    {
      "cell_type": "code",
      "metadata": {
        "id": "1lzZ4jVbWBEX",
        "colab_type": "code",
        "colab": {
          "base_uri": "https://localhost:8080/",
          "height": 279
        },
        "outputId": "349e0a8d-2e2f-4543-c171-4f9df1444194"
      },
      "source": [
        "plt.plot(conf_arr)\n",
        "plt.ylabel('confidence')\n",
        "plt.xlabel('frames')\n",
        "plt.show()"
      ],
      "execution_count": 52,
      "outputs": [
        {
          "output_type": "display_data",
          "data": {
            "image/png": "[encoded data removed]",
            "text/plain": [
              "<Figure size 432x288 with 1 Axes>"
            ]
          },
          "metadata": {
            "tags": [],
            "needs_background": "light"
          }
        }
      ]
    },
    {
      "cell_type": "code",
      "metadata": {
        "id": "mq1GTGbsvRj0",
        "colab_type": "code",
        "colab": {}
      },
      "source": [
        "from google.colab import files\n",
        "files.download('out.mp4') "
      ],
      "execution_count": 0,
      "outputs": []
    }
  ]
}